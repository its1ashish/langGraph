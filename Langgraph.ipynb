{
  "nbformat": 4,
  "nbformat_minor": 0,
  "metadata": {
    "colab": {
      "provenance": [],
      "authorship_tag": "ABX9TyO5pH5yJ5Jb5J0xStCtyKBo",
      "include_colab_link": true
    },
    "kernelspec": {
      "name": "python3",
      "display_name": "Python 3"
    },
    "language_info": {
      "name": "python"
    }
  },
  "cells": [
    {
      "cell_type": "markdown",
      "metadata": {
        "id": "view-in-github",
        "colab_type": "text"
      },
      "source": [
        "<a href=\"https://colab.research.google.com/github/its1ashish/langGraph/blob/main/Langgraph.ipynb\" target=\"_parent\"><img src=\"https://colab.research.google.com/assets/colab-badge.svg\" alt=\"Open In Colab\"/></a>"
      ]
    },
    {
      "cell_type": "markdown",
      "source": [
        "Step 1. Install Dependencies"
      ],
      "metadata": {
        "id": "Ye9apOgLW2M3"
      }
    },
    {
      "cell_type": "code",
      "execution_count": 1,
      "metadata": {
        "id": "Qv8OAnibWVVK",
        "colab": {
          "base_uri": "https://localhost:8080/"
        },
        "outputId": "2acb57a5-d8d6-415c-903a-95ef157b021f"
      },
      "outputs": [
        {
          "output_type": "stream",
          "name": "stdout",
          "text": [
            "\u001b[?25l     \u001b[90m━━━━━━━━━━━━━━━━━━━━━━━━━━━━━━━━━━━━━━━━\u001b[0m \u001b[32m0.0/43.7 kB\u001b[0m \u001b[31m?\u001b[0m eta \u001b[36m-:--:--\u001b[0m\r\u001b[2K     \u001b[90m━━━━━━━━━━━━━━━━━━━━━━━━━━━━━━━━━━━━━━━━\u001b[0m \u001b[32m43.7/43.7 kB\u001b[0m \u001b[31m2.7 MB/s\u001b[0m eta \u001b[36m0:00:00\u001b[0m\n",
            "\u001b[2K   \u001b[90m━━━━━━━━━━━━━━━━━━━━━━━━━━━━━━━━━━━━━━━━\u001b[0m \u001b[32m152.2/152.2 kB\u001b[0m \u001b[31m9.1 MB/s\u001b[0m eta \u001b[36m0:00:00\u001b[0m\n",
            "\u001b[2K   \u001b[90m━━━━━━━━━━━━━━━━━━━━━━━━━━━━━━━━━━━━━━━━\u001b[0m \u001b[32m42.0/42.0 kB\u001b[0m \u001b[31m3.2 MB/s\u001b[0m eta \u001b[36m0:00:00\u001b[0m\n",
            "\u001b[2K   \u001b[90m━━━━━━━━━━━━━━━━━━━━━━━━━━━━━━━━━━━━━━━━\u001b[0m \u001b[32m767.7/767.7 kB\u001b[0m \u001b[31m30.0 MB/s\u001b[0m eta \u001b[36m0:00:00\u001b[0m\n",
            "\u001b[2K   \u001b[90m━━━━━━━━━━━━━━━━━━━━━━━━━━━━━━━━━━━━━━━━\u001b[0m \u001b[32m43.9/43.9 kB\u001b[0m \u001b[31m2.8 MB/s\u001b[0m eta \u001b[36m0:00:00\u001b[0m\n",
            "\u001b[2K   \u001b[90m━━━━━━━━━━━━━━━━━━━━━━━━━━━━━━━━━━━━━━━━\u001b[0m \u001b[32m50.6/50.6 kB\u001b[0m \u001b[31m4.0 MB/s\u001b[0m eta \u001b[36m0:00:00\u001b[0m\n",
            "\u001b[2K   \u001b[90m━━━━━━━━━━━━━━━━━━━━━━━━━━━━━━━━━━━━━━━━\u001b[0m \u001b[32m216.5/216.5 kB\u001b[0m \u001b[31m17.7 MB/s\u001b[0m eta \u001b[36m0:00:00\u001b[0m\n",
            "\u001b[?25h"
          ]
        }
      ],
      "source": [
        "!pip install -qU google-generativeai==0.8.5 google-ai-generativelanguage==0.6.15 \\\n",
        "langgraph langchain langchain-google-genai openai"
      ]
    },
    {
      "cell_type": "markdown",
      "source": [
        "Step 2. Imports and Secure API key Input"
      ],
      "metadata": {
        "id": "uTzxJbR1ZV-R"
      }
    },
    {
      "cell_type": "code",
      "source": [
        "import os\n",
        "import getpass\n",
        "from langgraph.graph import StateGraph, END\n",
        "from langchain_google_genai import ChatGoogleGenerativeAI\n",
        "from langchain_core.messages import HumanMessage\n"
      ],
      "metadata": {
        "id": "AUFdeDQBZdn-"
      },
      "execution_count": 2,
      "outputs": []
    },
    {
      "cell_type": "code",
      "source": [
        "os.environ['GOOGLE_API_KEY'] = getpass.getpass(\"Enter the Gemini API Key\")"
      ],
      "metadata": {
        "colab": {
          "base_uri": "https://localhost:8080/"
        },
        "id": "NjIZ_uXca3fg",
        "outputId": "3574835e-7c2c-413f-f66b-3974c82a6c8f"
      },
      "execution_count": 3,
      "outputs": [
        {
          "name": "stdout",
          "output_type": "stream",
          "text": [
            "Enter the Gemini API Key··········\n"
          ]
        }
      ]
    },
    {
      "cell_type": "markdown",
      "source": [
        "Step 3. Initialize Gemini 1.5 Flash"
      ],
      "metadata": {
        "id": "5OcdLhaYcY1i"
      }
    },
    {
      "cell_type": "code",
      "source": [
        "llm = ChatGoogleGenerativeAI(model=\"models/gemini-1.5-flash-latest\", tempeature=0.2)"
      ],
      "metadata": {
        "id": "x4elk_oAchlQ"
      },
      "execution_count": 4,
      "outputs": []
    },
    {
      "cell_type": "markdown",
      "source": [
        "Step 4. Node to ask user for symptom"
      ],
      "metadata": {
        "id": "8Y-nyGFL2CbA"
      }
    },
    {
      "cell_type": "code",
      "source": [
        "def get_symptom(state: dict)->dict:\n",
        "  symptom=input(\"Please enter your symptom\")\n",
        "  state[\"symptom\"] = symptom\n",
        "  return state"
      ],
      "metadata": {
        "id": "Pt1VURQL2JHr"
      },
      "execution_count": 5,
      "outputs": []
    },
    {
      "cell_type": "markdown",
      "source": [
        "Step 5. Node to classify the symptom"
      ],
      "metadata": {
        "id": "Au5FXgrs4pEh"
      }
    },
    {
      "cell_type": "code",
      "source": [
        "def classify_symptom(state: dict) ->dict:\n",
        "  prompt=(\n",
        "      \"You are a helpful Medical Assistant, Classify the symptoms below into one of the categories \\n\"\n",
        "      \"-General\\n -Emergency\\n -Mental Health\\n\"\n",
        "      f\"symptom: {state['symptom']} \\n\"\n",
        "      \"Respond only with one word: General, Emergency or Mental Health\"\n",
        "      \"Example: input: I have fever, output: General\"\n",
        "  )\n",
        "  response = llm.invoke([HumanMessage(content=prompt)])\n",
        "  category = response.content.strip()\n",
        "  print(f\"LLM classifies the symptom as: {category}\")\n",
        "  state[\"category\"] = category\n",
        "  return state"
      ],
      "metadata": {
        "id": "z708cdHA4uTs"
      },
      "execution_count": 6,
      "outputs": []
    },
    {
      "cell_type": "markdown",
      "source": [
        "Step 6. Router Logic to route to the correct node"
      ],
      "metadata": {
        "id": "LZ0T0TegL-3c"
      }
    },
    {
      "cell_type": "code",
      "source": [
        "def symptom_router(state: dict) -> dict:\n",
        "  cat=state[\"category\"].lower()\n",
        "  if \"general\" in cat:\n",
        "    return \"general_treatment\"\n",
        "  elif \"emergency\" in cat:\n",
        "    return \"emergency_treatment\"\n",
        "  elif \"mental health\" in cat:\n",
        "    return \"mental_health_treatment\"\n",
        "  else:\n",
        "    return \"general\""
      ],
      "metadata": {
        "id": "bEDDlowNMGDf"
      },
      "execution_count": 7,
      "outputs": []
    },
    {
      "cell_type": "markdown",
      "source": [
        "Step 7. Category specific response nodes"
      ],
      "metadata": {
        "id": "IlcDUdMMNyMf"
      }
    },
    {
      "cell_type": "code",
      "source": [
        "def general_node(state: dict)->dict:\n",
        "  state[\"answer\"] = f\"'{state['symptom']}' : seems general: directing you to general ward for consulting a doctor\"\n",
        "  return state\n",
        "\n",
        "def emergency_node(state: dict)->dict:\n",
        "  state[\"answer\"] = f\"'{state['symptom']}' : It is medical emergency: seeking immediate help\"\n",
        "  return state\n",
        "\n",
        "def mental_health_node(state: dict)->dict:\n",
        "  state[\"answer\"] = f\"'{state['symptom']}' : seems like a mental health issue: talk to our councellor\"\n",
        "  return state"
      ],
      "metadata": {
        "id": "S6vNOz5cOyl_"
      },
      "execution_count": 13,
      "outputs": []
    },
    {
      "cell_type": "markdown",
      "source": [
        "Step 8. Build LangGraph"
      ],
      "metadata": {
        "id": "Bprz0lP4QnGN"
      }
    },
    {
      "cell_type": "code",
      "source": [
        "builder= StateGraph(dict)\n",
        "\n",
        "builder.set_entry_point(\"get_symptom\")\n",
        "builder.add_node(\"get_symptom\", get_symptom)\n",
        "builder.add_node(\"classify_symptom\", classify_symptom)\n",
        "builder.add_node(\"general_treatment\", general_node)\n",
        "builder.add_node(\"emergency_treatment\", emergency_node)\n",
        "builder.add_node(\"mental_health_treatment\", mental_health_node)\n",
        "\n",
        "builder.add_edge(\"get_symptom\", \"classify_symptom\")\n",
        "builder.add_conditional_edges(\"classify_symptom\", symptom_router, {\n",
        "    \"general_treatment\": \"general_treatment\",\n",
        "    \"emergency_treatment\": \"emergency_treatment\",\n",
        "    \"mental_health_treatment\": \"mental_health_treatment\"\n",
        "})\n",
        "builder.add_edge(\"general_treatment\",END)\n",
        "builder.add_edge(\"emergency_treatment\",END)\n",
        "builder.add_edge(\"mental_health_treatment\",END)"
      ],
      "metadata": {
        "colab": {
          "base_uri": "https://localhost:8080/"
        },
        "id": "ajegLvM2QsEA",
        "outputId": "c23258b8-26e5-4bbc-f6a0-97c6bfe6ed60"
      },
      "execution_count": 15,
      "outputs": [
        {
          "output_type": "execute_result",
          "data": {
            "text/plain": [
              "<langgraph.graph.state.StateGraph at 0x7da1cc452450>"
            ]
          },
          "metadata": {},
          "execution_count": 15
        }
      ]
    },
    {
      "cell_type": "markdown",
      "source": [
        "Step 9. Compile and invoke the graph"
      ],
      "metadata": {
        "id": "vndFLsKcSzvX"
      }
    },
    {
      "cell_type": "code",
      "source": [
        "graph=builder.compile()\n",
        "final_state=graph.invoke({})\n",
        "print(\"final Output \\n\")\n",
        "print(final_state[\"answer\"])"
      ],
      "metadata": {
        "colab": {
          "base_uri": "https://localhost:8080/"
        },
        "id": "0JedpNMQS469",
        "outputId": "4ac9aa50-10e2-4ec9-9680-e652715311c7"
      },
      "execution_count": 17,
      "outputs": [
        {
          "output_type": "stream",
          "name": "stdout",
          "text": [
            "Please enter your symptomi have depression\n",
            "LLM classifies the symptom as: Mental Health\n",
            "final Output \n",
            "\n",
            "'i have depression' : seems like a mental health issue: talk to our councellor\n"
          ]
        }
      ]
    }
  ]
}